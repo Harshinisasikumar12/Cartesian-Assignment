{
 "cells": [
  {
   "cell_type": "code",
   "execution_count": 1,
   "id": "f676cb46",
   "metadata": {},
   "outputs": [
    {
     "name": "stdout",
     "output_type": "stream",
     "text": [
      "This declaration represents a political commitment among declaration partners to advance a positive vision for the Internet in this era of a united europe\n",
      "Europe united a of era this in Internet the for vision positive a advance to partners declaration among commitment political a represents declaration this\n",
      "a : 3 times\n",
      "this : 2 times\n"
     ]
    }
   ],
   "source": [
    "from collections import Counter\n",
    "a=input()\n",
    "b=a.replace('\"','')\n",
    "c=b[0].lower() + b[1:]\n",
    "d=len(c)-1\n",
    "e=f=d+1\n",
    "g= ''\n",
    "while d>= 0:\n",
    "    if c[d] == ' ':\n",
    "        e = d+1\n",
    "        while e!= f:\n",
    "            g+= c[e]\n",
    "            e+= 1\n",
    "        g+= ' '\n",
    "        f=d\n",
    "    d-= 1\n",
    "e=0\n",
    "while e!= f:\n",
    "    g+= c[e]\n",
    "    e+= 1\n",
    "print(g[0].capitalize() + g[1:])\n",
    "h = g.split()\n",
    "Counter = Counter(h)\n",
    "i = Counter.most_common(2)\n",
    "for j in i:\n",
    "    k = {j[0]:j[1]}\n",
    "    print(*[str(l) + ' : ' + str(m)+' times' for l,m in k.items()],sep='\\n')\n",
    "\n",
    "           \n"
   ]
  },
  {
   "cell_type": "code",
   "execution_count": null,
   "id": "6f5f3d27",
   "metadata": {},
   "outputs": [],
   "source": []
  }
 ],
 "metadata": {
  "kernelspec": {
   "display_name": "Python 3 (ipykernel)",
   "language": "python",
   "name": "python3"
  },
  "language_info": {
   "codemirror_mode": {
    "name": "ipython",
    "version": 3
   },
   "file_extension": ".py",
   "mimetype": "text/x-python",
   "name": "python",
   "nbconvert_exporter": "python",
   "pygments_lexer": "ipython3",
   "version": "3.9.7"
  }
 },
 "nbformat": 4,
 "nbformat_minor": 5
}
